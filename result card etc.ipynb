{
 "cells": [
  {
   "cell_type": "code",
   "execution_count": 4,
   "metadata": {},
   "outputs": [
    {
     "name": "stdout",
     "output_type": "stream",
     "text": [
      "python\n",
      "pythonpythonpython\n"
     ]
    }
   ],
   "source": [
    "Filename=\"python\"\n",
    "print(Filename)\n",
    "print('python'*3)"
   ]
  },
  {
   "cell_type": "code",
   "execution_count": 9,
   "metadata": {},
   "outputs": [
    {
     "name": "stdout",
     "output_type": "stream",
     "text": [
      "sameer ahmed mughalsameer ahmed mughalsameer ahmed mughal\n",
      "sameer\n",
      "ahmed\n",
      "mughal\n"
     ]
    }
   ],
   "source": [
    "firstname=\"sameer\"\n",
    "middlename=\"ahmed\"\n",
    "lastname=\"mughal\"\n",
    "fullname=firstname+\" \"+middlename+\" \"+lastname\n",
    "print(fullname*3)\n",
    "fname,mname,lname=\"sameer\",\"ahmed\",\"mughal\"\n",
    "print(fname)\n",
    "print(mname)\n",
    "print(lname)"
   ]
  },
  {
   "cell_type": "code",
   "execution_count": 10,
   "metadata": {},
   "outputs": [
    {
     "name": "stdout",
     "output_type": "stream",
     "text": [
      "sameer ahmed\n"
     ]
    }
   ],
   "source": [
    "fname=mname=lname=\"sameer\"\n",
    "a=\"ahmed\"\n",
    "print(\"sameer \"+a)"
   ]
  },
  {
   "cell_type": "code",
   "execution_count": 13,
   "metadata": {},
   "outputs": [
    {
     "name": "stdout",
     "output_type": "stream",
     "text": [
      "6\n",
      "2\n",
      "18\n",
      "-19\n",
      "1732\n",
      "9.0\n",
      "9\n"
     ]
    }
   ],
   "source": [
    "print(3+3)\n",
    "print(6-4)\n",
    "print(3*6)\n",
    "print(8-9*3)\n",
    "print(12**3+4)\n",
    "print(27/3)\n",
    "print(27//3)"
   ]
  },
  {
   "cell_type": "code",
   "execution_count": 15,
   "metadata": {},
   "outputs": [
    {
     "name": "stdout",
     "output_type": "stream",
     "text": [
      "enter your user name :sameer ahmed\n"
     ]
    }
   ],
   "source": [
    "a=input(\"enter your user name:\")"
   ]
  },
  {
   "cell_type": "code",
   "execution_count": 17,
   "metadata": {},
   "outputs": [
    {
     "name": "stdout",
     "output_type": "stream",
     "text": [
      "please enter your first num : 225\n",
      "please enter your second number : 122\n",
      "the result of Addition is 347.0\n",
      "the result of Subtraction is 103.0\n",
      "the result of multiplication is 27450.0\n",
      "the result of Division is 1.8442622950819672\n"
     ]
    }
   ],
   "source": [
    "num1=float(input(\"please enter your first num : \"))\n",
    "num2=float(input(\"please enter your second number : \")) \n",
    "sum=(num1+num2) \n",
    "sum1=(num1-num2) \n",
    "sum2=(num1*num2) \n",
    "sum3=(num1/num2) \n",
    "print(\"the result of Addition is\",sum) \n",
    "print(\"the result of Subtraction is\",sum1)\n",
    "print(\"the result of multiplication is\",sum2) \n",
    "print(\"the result of Division is\",sum3)\n"
   ]
  },
  {
   "cell_type": "code",
   "execution_count": 21,
   "metadata": {},
   "outputs": [
    {
     "name": "stdout",
     "output_type": "stream",
     "text": [
      "Student Name : Sameer Ahmed\n",
      "Number Obtained in Physics : 90\n",
      "Number Obtained in Maths : 95\n",
      "Number Obtained in English : 85\n",
      "Number Obtained in Urdu : 90\n",
      "Number Obtained in Islamiat : 85\n",
      "Obtained marks 445.0\n",
      "percentage 89.0\n"
     ]
    }
   ],
   "source": [
    "num1=(input(\"Student Name : \"))\n",
    "num2=float(input(\"Number Obtained in Physics : \"))\n",
    "num3=float(input(\"Number Obtained in Maths : \"))\n",
    "num4=float(input(\"Number Obtained in English : \"))\n",
    "num5=float(input(\"Number Obtained in Urdu : \"))\n",
    "num6=float(input(\"Number Obtained in Islamiat : \"))\n",
    "sum=(num2+num3+num4+num5+num6)\n",
    "print(\"Obtained marks\",sum)\n",
    "print(\"percentage\",sum*100/500)"
   ]
  },
  {
   "cell_type": "code",
   "execution_count": null,
   "metadata": {},
   "outputs": [],
   "source": []
  }
 ],
 "metadata": {
  "kernelspec": {
   "display_name": "Python 3",
   "language": "python",
   "name": "python3"
  },
  "language_info": {
   "codemirror_mode": {
    "name": "ipython",
    "version": 3
   },
   "file_extension": ".py",
   "mimetype": "text/x-python",
   "name": "python",
   "nbconvert_exporter": "python",
   "pygments_lexer": "ipython3",
   "version": "3.8.5"
  }
 },
 "nbformat": 4,
 "nbformat_minor": 4
}
